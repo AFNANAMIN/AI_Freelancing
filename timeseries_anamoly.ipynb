{
  "nbformat": 4,
  "nbformat_minor": 0,
  "metadata": {
    "colab": {
      "name": "timeseries_anamoly.ipynb",
      "provenance": [],
      "toc_visible": true,
      "include_colab_link": true
    },
    "kernelspec": {
      "name": "python3",
      "display_name": "Python 3"
    },
    "accelerator": "GPU"
  },
  "cells": [
    {
      "cell_type": "markdown",
      "metadata": {
        "id": "view-in-github",
        "colab_type": "text"
      },
      "source": [
        "<a href=\"https://colab.research.google.com/github/AFNANAMIN/AI_Freelancing/blob/master/timeseries_anamoly.ipynb\" target=\"_parent\"><img src=\"https://colab.research.google.com/assets/colab-badge.svg\" alt=\"Open In Colab\"/></a>"
      ]
    },
    {
      "cell_type": "code",
      "metadata": {
        "id": "ylKiC289h0ot",
        "colab_type": "code",
        "colab": {}
      },
      "source": [
        "import pandas as pd\n",
        "data=pd.read_csv('timeseries.csv', names=['num', 'value'])\n",
        "import numpy as np\n",
        "data=data[0:400]"
      ],
      "execution_count": 0,
      "outputs": []
    },
    {
      "cell_type": "code",
      "metadata": {
        "id": "j00fRrILyZ0g",
        "colab_type": "code",
        "colab": {}
      },
      "source": [
        ""
      ],
      "execution_count": 0,
      "outputs": []
    },
    {
      "cell_type": "markdown",
      "metadata": {
        "id": "wrQUuDow-ue3",
        "colab_type": "text"
      },
      "source": [
        "SARIMA stands for Seasonal Auto Regressive Integrated Moving Average. It has a seasonal parameter which i initialize as 7 . Other parameters are p,d,q which are identified based on ACF and PACF plots or ideally we should use the parameters with minimal error in forecasting.\n",
        "\n",
        "More details can be found here: https://people.duke.edu/~rnau/arimrule.htm"
      ]
    },
    {
      "cell_type": "code",
      "metadata": {
        "id": "mbEE9EmkiOij",
        "colab_type": "code",
        "colab": {}
      },
      "source": [
        "actual_vals = data.value.values\n",
        "actual_log = np.log10(actual_vals)#to make it stationary"
      ],
      "execution_count": 0,
      "outputs": []
    },
    {
      "cell_type": "code",
      "metadata": {
        "id": "zjvUe8GGiRzI",
        "colab_type": "code",
        "colab": {}
      },
      "source": [
        "import math\n",
        "import statsmodels.api as sm\n",
        "import statsmodels.tsa.api as smt\n",
        "from sklearn.metrics import mean_squared_error\n",
        "from matplotlib import pyplot\n",
        "import matplotlib.pyplot as plt\n",
        "import plotly as py\n",
        "#import plotly.tools as tls\n"
      ],
      "execution_count": 0,
      "outputs": []
    },
    {
      "cell_type": "code",
      "metadata": {
        "id": "GlZ4khGbiU42",
        "colab_type": "code",
        "colab": {}
      },
      "source": [
        "train, test = actual_vals[0:-70], actual_vals[-70:]"
      ],
      "execution_count": 0,
      "outputs": []
    },
    {
      "cell_type": "code",
      "metadata": {
        "id": "1jIMyfIFiYRs",
        "colab_type": "code",
        "colab": {}
      },
      "source": [
        "train_log, test_log = np.log10(train), np.log10(test)\n",
        "\n",
        "my_order = (1, 1, 1)\n",
        "my_seasonal_order = (0, 1, 1, 7)"
      ],
      "execution_count": 0,
      "outputs": []
    },
    {
      "cell_type": "code",
      "metadata": {
        "id": "AIUKT9CjibBY",
        "colab_type": "code",
        "outputId": "97eead34-428b-49a0-e9c5-6e3c052542a5",
        "colab": {
          "base_uri": "https://localhost:8080/",
          "height": 1000
        }
      },
      "source": [
        "history = [x for x in train_log]\n",
        "predictions = list()\n",
        "predict_log=list()\n",
        "for t in range(len(test_log)):\n",
        "    model = sm.tsa.SARIMAX(history, order=my_order, seasonal_order=my_seasonal_order,enforce_stationarity=False,enforce_invertibility=False)\n",
        "    model_fit = model.fit(disp=0)\n",
        "    output = model_fit.forecast()\n",
        "    predict_log.append(output[0])\n",
        "    yhat = 10**output[0]\n",
        "    predictions.append(yhat)\n",
        "    obs = test_log[t]\n",
        "    history.append(obs)\n",
        "   # print('predicted=%f, expected=%f' % (output[0], obs))\n",
        "#error = math.sqrt(mean_squared_error(test_log, predict_log))\n",
        "#print('Test rmse: %.3f' % error)\n",
        "# plot\n",
        "figsize=(12, 7)\n",
        "plt.figure(figsize=figsize)\n",
        "pyplot.plot(test,label='Actuals')\n",
        "pyplot.plot(predictions, color='red',label='Predicted')\n",
        "pyplot.legend(loc='upper right')\n",
        "pyplot.show()"
      ],
      "execution_count": 0,
      "outputs": [
        {
          "output_type": "stream",
          "text": [
            "/usr/local/lib/python3.6/dist-packages/statsmodels/base/model.py:512: ConvergenceWarning:\n",
            "\n",
            "Maximum Likelihood optimization failed to converge. Check mle_retvals\n",
            "\n",
            "/usr/local/lib/python3.6/dist-packages/statsmodels/base/model.py:512: ConvergenceWarning:\n",
            "\n",
            "Maximum Likelihood optimization failed to converge. Check mle_retvals\n",
            "\n",
            "/usr/local/lib/python3.6/dist-packages/statsmodels/base/model.py:512: ConvergenceWarning:\n",
            "\n",
            "Maximum Likelihood optimization failed to converge. Check mle_retvals\n",
            "\n",
            "/usr/local/lib/python3.6/dist-packages/statsmodels/base/model.py:512: ConvergenceWarning:\n",
            "\n",
            "Maximum Likelihood optimization failed to converge. Check mle_retvals\n",
            "\n",
            "/usr/local/lib/python3.6/dist-packages/statsmodels/base/model.py:512: ConvergenceWarning:\n",
            "\n",
            "Maximum Likelihood optimization failed to converge. Check mle_retvals\n",
            "\n",
            "/usr/local/lib/python3.6/dist-packages/statsmodels/base/model.py:512: ConvergenceWarning:\n",
            "\n",
            "Maximum Likelihood optimization failed to converge. Check mle_retvals\n",
            "\n",
            "/usr/local/lib/python3.6/dist-packages/statsmodels/base/model.py:512: ConvergenceWarning:\n",
            "\n",
            "Maximum Likelihood optimization failed to converge. Check mle_retvals\n",
            "\n",
            "/usr/local/lib/python3.6/dist-packages/statsmodels/base/model.py:512: ConvergenceWarning:\n",
            "\n",
            "Maximum Likelihood optimization failed to converge. Check mle_retvals\n",
            "\n",
            "/usr/local/lib/python3.6/dist-packages/statsmodels/base/model.py:512: ConvergenceWarning:\n",
            "\n",
            "Maximum Likelihood optimization failed to converge. Check mle_retvals\n",
            "\n",
            "/usr/local/lib/python3.6/dist-packages/statsmodels/base/model.py:512: ConvergenceWarning:\n",
            "\n",
            "Maximum Likelihood optimization failed to converge. Check mle_retvals\n",
            "\n",
            "/usr/local/lib/python3.6/dist-packages/statsmodels/base/model.py:512: ConvergenceWarning:\n",
            "\n",
            "Maximum Likelihood optimization failed to converge. Check mle_retvals\n",
            "\n",
            "/usr/local/lib/python3.6/dist-packages/statsmodels/base/model.py:512: ConvergenceWarning:\n",
            "\n",
            "Maximum Likelihood optimization failed to converge. Check mle_retvals\n",
            "\n",
            "/usr/local/lib/python3.6/dist-packages/statsmodels/base/model.py:512: ConvergenceWarning:\n",
            "\n",
            "Maximum Likelihood optimization failed to converge. Check mle_retvals\n",
            "\n",
            "/usr/local/lib/python3.6/dist-packages/statsmodels/base/model.py:512: ConvergenceWarning:\n",
            "\n",
            "Maximum Likelihood optimization failed to converge. Check mle_retvals\n",
            "\n",
            "/usr/local/lib/python3.6/dist-packages/statsmodels/base/model.py:512: ConvergenceWarning:\n",
            "\n",
            "Maximum Likelihood optimization failed to converge. Check mle_retvals\n",
            "\n",
            "/usr/local/lib/python3.6/dist-packages/statsmodels/base/model.py:512: ConvergenceWarning:\n",
            "\n",
            "Maximum Likelihood optimization failed to converge. Check mle_retvals\n",
            "\n",
            "/usr/local/lib/python3.6/dist-packages/statsmodels/base/model.py:512: ConvergenceWarning:\n",
            "\n",
            "Maximum Likelihood optimization failed to converge. Check mle_retvals\n",
            "\n",
            "/usr/local/lib/python3.6/dist-packages/statsmodels/base/model.py:512: ConvergenceWarning:\n",
            "\n",
            "Maximum Likelihood optimization failed to converge. Check mle_retvals\n",
            "\n",
            "/usr/local/lib/python3.6/dist-packages/statsmodels/base/model.py:512: ConvergenceWarning:\n",
            "\n",
            "Maximum Likelihood optimization failed to converge. Check mle_retvals\n",
            "\n",
            "/usr/local/lib/python3.6/dist-packages/statsmodels/base/model.py:512: ConvergenceWarning:\n",
            "\n",
            "Maximum Likelihood optimization failed to converge. Check mle_retvals\n",
            "\n",
            "/usr/local/lib/python3.6/dist-packages/statsmodels/base/model.py:512: ConvergenceWarning:\n",
            "\n",
            "Maximum Likelihood optimization failed to converge. Check mle_retvals\n",
            "\n",
            "/usr/local/lib/python3.6/dist-packages/statsmodels/base/model.py:512: ConvergenceWarning:\n",
            "\n",
            "Maximum Likelihood optimization failed to converge. Check mle_retvals\n",
            "\n",
            "/usr/local/lib/python3.6/dist-packages/statsmodels/base/model.py:512: ConvergenceWarning:\n",
            "\n",
            "Maximum Likelihood optimization failed to converge. Check mle_retvals\n",
            "\n",
            "/usr/local/lib/python3.6/dist-packages/statsmodels/base/model.py:512: ConvergenceWarning:\n",
            "\n",
            "Maximum Likelihood optimization failed to converge. Check mle_retvals\n",
            "\n",
            "/usr/local/lib/python3.6/dist-packages/statsmodels/base/model.py:512: ConvergenceWarning:\n",
            "\n",
            "Maximum Likelihood optimization failed to converge. Check mle_retvals\n",
            "\n",
            "/usr/local/lib/python3.6/dist-packages/statsmodels/base/model.py:512: ConvergenceWarning:\n",
            "\n",
            "Maximum Likelihood optimization failed to converge. Check mle_retvals\n",
            "\n",
            "/usr/local/lib/python3.6/dist-packages/statsmodels/base/model.py:512: ConvergenceWarning:\n",
            "\n",
            "Maximum Likelihood optimization failed to converge. Check mle_retvals\n",
            "\n",
            "/usr/local/lib/python3.6/dist-packages/statsmodels/base/model.py:512: ConvergenceWarning:\n",
            "\n",
            "Maximum Likelihood optimization failed to converge. Check mle_retvals\n",
            "\n",
            "/usr/local/lib/python3.6/dist-packages/statsmodels/base/model.py:512: ConvergenceWarning:\n",
            "\n",
            "Maximum Likelihood optimization failed to converge. Check mle_retvals\n",
            "\n",
            "/usr/local/lib/python3.6/dist-packages/statsmodels/base/model.py:512: ConvergenceWarning:\n",
            "\n",
            "Maximum Likelihood optimization failed to converge. Check mle_retvals\n",
            "\n",
            "/usr/local/lib/python3.6/dist-packages/statsmodels/base/model.py:512: ConvergenceWarning:\n",
            "\n",
            "Maximum Likelihood optimization failed to converge. Check mle_retvals\n",
            "\n",
            "/usr/local/lib/python3.6/dist-packages/statsmodels/base/model.py:512: ConvergenceWarning:\n",
            "\n",
            "Maximum Likelihood optimization failed to converge. Check mle_retvals\n",
            "\n",
            "/usr/local/lib/python3.6/dist-packages/statsmodels/base/model.py:512: ConvergenceWarning:\n",
            "\n",
            "Maximum Likelihood optimization failed to converge. Check mle_retvals\n",
            "\n",
            "/usr/local/lib/python3.6/dist-packages/statsmodels/base/model.py:512: ConvergenceWarning:\n",
            "\n",
            "Maximum Likelihood optimization failed to converge. Check mle_retvals\n",
            "\n",
            "/usr/local/lib/python3.6/dist-packages/statsmodels/base/model.py:512: ConvergenceWarning:\n",
            "\n",
            "Maximum Likelihood optimization failed to converge. Check mle_retvals\n",
            "\n",
            "/usr/local/lib/python3.6/dist-packages/statsmodels/base/model.py:512: ConvergenceWarning:\n",
            "\n",
            "Maximum Likelihood optimization failed to converge. Check mle_retvals\n",
            "\n",
            "/usr/local/lib/python3.6/dist-packages/statsmodels/base/model.py:512: ConvergenceWarning:\n",
            "\n",
            "Maximum Likelihood optimization failed to converge. Check mle_retvals\n",
            "\n",
            "/usr/local/lib/python3.6/dist-packages/statsmodels/base/model.py:512: ConvergenceWarning:\n",
            "\n",
            "Maximum Likelihood optimization failed to converge. Check mle_retvals\n",
            "\n",
            "/usr/local/lib/python3.6/dist-packages/statsmodels/base/model.py:512: ConvergenceWarning:\n",
            "\n",
            "Maximum Likelihood optimization failed to converge. Check mle_retvals\n",
            "\n",
            "/usr/local/lib/python3.6/dist-packages/statsmodels/base/model.py:512: ConvergenceWarning:\n",
            "\n",
            "Maximum Likelihood optimization failed to converge. Check mle_retvals\n",
            "\n",
            "/usr/local/lib/python3.6/dist-packages/statsmodels/base/model.py:512: ConvergenceWarning:\n",
            "\n",
            "Maximum Likelihood optimization failed to converge. Check mle_retvals\n",
            "\n",
            "/usr/local/lib/python3.6/dist-packages/statsmodels/base/model.py:512: ConvergenceWarning:\n",
            "\n",
            "Maximum Likelihood optimization failed to converge. Check mle_retvals\n",
            "\n",
            "/usr/local/lib/python3.6/dist-packages/statsmodels/base/model.py:512: ConvergenceWarning:\n",
            "\n",
            "Maximum Likelihood optimization failed to converge. Check mle_retvals\n",
            "\n",
            "/usr/local/lib/python3.6/dist-packages/statsmodels/base/model.py:512: ConvergenceWarning:\n",
            "\n",
            "Maximum Likelihood optimization failed to converge. Check mle_retvals\n",
            "\n",
            "/usr/local/lib/python3.6/dist-packages/statsmodels/base/model.py:512: ConvergenceWarning:\n",
            "\n",
            "Maximum Likelihood optimization failed to converge. Check mle_retvals\n",
            "\n",
            "/usr/local/lib/python3.6/dist-packages/statsmodels/base/model.py:512: ConvergenceWarning:\n",
            "\n",
            "Maximum Likelihood optimization failed to converge. Check mle_retvals\n",
            "\n",
            "/usr/local/lib/python3.6/dist-packages/statsmodels/base/model.py:512: ConvergenceWarning:\n",
            "\n",
            "Maximum Likelihood optimization failed to converge. Check mle_retvals\n",
            "\n",
            "/usr/local/lib/python3.6/dist-packages/statsmodels/base/model.py:512: ConvergenceWarning:\n",
            "\n",
            "Maximum Likelihood optimization failed to converge. Check mle_retvals\n",
            "\n",
            "/usr/local/lib/python3.6/dist-packages/statsmodels/base/model.py:512: ConvergenceWarning:\n",
            "\n",
            "Maximum Likelihood optimization failed to converge. Check mle_retvals\n",
            "\n",
            "/usr/local/lib/python3.6/dist-packages/statsmodels/base/model.py:512: ConvergenceWarning:\n",
            "\n",
            "Maximum Likelihood optimization failed to converge. Check mle_retvals\n",
            "\n",
            "/usr/local/lib/python3.6/dist-packages/statsmodels/base/model.py:512: ConvergenceWarning:\n",
            "\n",
            "Maximum Likelihood optimization failed to converge. Check mle_retvals\n",
            "\n",
            "/usr/local/lib/python3.6/dist-packages/statsmodels/base/model.py:512: ConvergenceWarning:\n",
            "\n",
            "Maximum Likelihood optimization failed to converge. Check mle_retvals\n",
            "\n",
            "/usr/local/lib/python3.6/dist-packages/statsmodels/base/model.py:512: ConvergenceWarning:\n",
            "\n",
            "Maximum Likelihood optimization failed to converge. Check mle_retvals\n",
            "\n",
            "/usr/local/lib/python3.6/dist-packages/statsmodels/base/model.py:512: ConvergenceWarning:\n",
            "\n",
            "Maximum Likelihood optimization failed to converge. Check mle_retvals\n",
            "\n",
            "/usr/local/lib/python3.6/dist-packages/statsmodels/base/model.py:512: ConvergenceWarning:\n",
            "\n",
            "Maximum Likelihood optimization failed to converge. Check mle_retvals\n",
            "\n",
            "/usr/local/lib/python3.6/dist-packages/statsmodels/base/model.py:512: ConvergenceWarning:\n",
            "\n",
            "Maximum Likelihood optimization failed to converge. Check mle_retvals\n",
            "\n",
            "/usr/local/lib/python3.6/dist-packages/statsmodels/base/model.py:512: ConvergenceWarning:\n",
            "\n",
            "Maximum Likelihood optimization failed to converge. Check mle_retvals\n",
            "\n"
          ],
          "name": "stderr"
        },
        {
          "output_type": "display_data",
          "data": {
            "image/png": "[encoded data removed]",
            "text/plain": [
              "<Figure size 864x504 with 1 Axes>"
            ]
          },
          "metadata": {
            "tags": []
          }
        }
      ]
    },
    {
      "cell_type": "code",
      "metadata": {
        "id": "yBjgBkYC8uzt",
        "colab_type": "code",
        "outputId": "4b85f5a0-fcf1-4cfb-f848-1bd309a016ce",
        "colab": {
          "base_uri": "https://localhost:8080/",
          "height": 1000
        }
      },
      "source": [
        "predictions"
      ],
      "execution_count": 0,
      "outputs": [
        {
          "output_type": "execute_result",
          "data": {
            "text/plain": [
              "[0.9444350743319075,\n",
              " 0.9444077668869209,\n",
              " 0.9444393042480602,\n",
              " 0.9413997086327996,\n",
              " 0.9442906207848968,\n",
              " 0.9442987170180381,\n",
              " 0.9443124740251015,\n",
              " 0.9442408831208002,\n",
              " 0.944287592914006,\n",
              " 0.9442647206255652,\n",
              " 0.9442303671828781,\n",
              " 0.9442318046924031,\n",
              " 0.9442281540616306,\n",
              " 0.9442064018832201,\n",
              " 0.9441971126396791,\n",
              " 0.9442378146327653,\n",
              " 0.944184309680312,\n",
              " 0.9441396476860554,\n",
              " 0.9441855121531,\n",
              " 0.9441903898651379,\n",
              " 0.9441796298085207,\n",
              " 0.9441982098807299,\n",
              " 0.9441979741459746,\n",
              " 0.94416935666793,\n",
              " 0.9441581477772603,\n",
              " 0.9441050167909303,\n",
              " 0.9439833096673225,\n",
              " 0.9440464426832853,\n",
              " 0.9440949441161144,\n",
              " 0.9440877882312455,\n",
              " 0.9441295660875616,\n",
              " 0.9440838576774223,\n",
              " 0.9440863901347324,\n",
              " nan,\n",
              " 0.9439696408949212,\n",
              " 0.9439089232683229,\n",
              " 0.9438978085092324,\n",
              " 0.9439857736503279,\n",
              " 0.9441069811778684,\n",
              " 0.9440550406247505,\n",
              " 0.9440366661945022,\n",
              " 0.9439690758137698,\n",
              " 0.9440060016956259,\n",
              " 0.9441103987865871,\n",
              " 0.9439799430918662,\n",
              " 0.9439318149361331,\n",
              " 0.9439540446579516,\n",
              " 0.9438653576302881,\n",
              " 0.9439147928050998,\n",
              " 0.9441346843109781,\n",
              " 0.9439232476084694,\n",
              " 0.9439775872871362,\n",
              " 0.9439568465048761,\n",
              " 0.9440092872040895,\n",
              " 0.9439712858163223,\n",
              " 0.943802412519613,\n",
              " 0.9437563974498726,\n",
              " 0.9434413243331953,\n",
              " 0.9436869517353125,\n",
              " 0.9439110221575285,\n",
              " 0.9434262705490709,\n",
              " 0.9431379481658625,\n",
              " 0.9437248079933688,\n",
              " 0.9437718196104407,\n",
              " 0.9435889632191305,\n",
              " 0.9434642607012929,\n",
              " 0.9434749975979704,\n",
              " 0.9437168235283949,\n",
              " 0.9436696152711368,\n",
              " 0.9435071221437228]"
            ]
          },
          "metadata": {
            "tags": []
          },
          "execution_count": 7
        }
      ]
    },
    {
      "cell_type": "code",
      "metadata": {
        "id": "RtYkAaf8iqc6",
        "colab_type": "code",
        "outputId": "55f910f0-d826-45e1-e18a-4cc8833e7b92",
        "colab": {
          "base_uri": "https://localhost:8080/",
          "height": 204
        }
      },
      "source": [
        "predicted_df=pd.DataFrame()\n",
        "predicted_df['load_date']=data['num'][-70:]\n",
        "predicted_df['actuals']=test\n",
        "predicted_df['predicted']=predictions\n",
        "predicted_df.reset_index(inplace=True)\n",
        "del predicted_df['index']\n",
        "predicted_df.head()"
      ],
      "execution_count": 0,
      "outputs": [
        {
          "output_type": "execute_result",
          "data": {
            "text/html": [
              "<div>\n",
              "<style scoped>\n",
              "    .dataframe tbody tr th:only-of-type {\n",
              "        vertical-align: middle;\n",
              "    }\n",
              "\n",
              "    .dataframe tbody tr th {\n",
              "        vertical-align: top;\n",
              "    }\n",
              "\n",
              "    .dataframe thead th {\n",
              "        text-align: right;\n",
              "    }\n",
              "</style>\n",
              "<table border=\"1\" class=\"dataframe\">\n",
              "  <thead>\n",
              "    <tr style=\"text-align: right;\">\n",
              "      <th></th>\n",
              "      <th>load_date</th>\n",
              "      <th>actuals</th>\n",
              "      <th>predicted</th>\n",
              "    </tr>\n",
              "  </thead>\n",
              "  <tbody>\n",
              "    <tr>\n",
              "      <th>0</th>\n",
              "      <td>330</td>\n",
              "      <td>0.944418</td>\n",
              "      <td>0.944435</td>\n",
              "    </tr>\n",
              "    <tr>\n",
              "      <th>1</th>\n",
              "      <td>331</td>\n",
              "      <td>0.944414</td>\n",
              "      <td>0.944408</td>\n",
              "    </tr>\n",
              "    <tr>\n",
              "      <th>2</th>\n",
              "      <td>332</td>\n",
              "      <td>0.944345</td>\n",
              "      <td>0.944439</td>\n",
              "    </tr>\n",
              "    <tr>\n",
              "      <th>3</th>\n",
              "      <td>333</td>\n",
              "      <td>0.944311</td>\n",
              "      <td>0.941400</td>\n",
              "    </tr>\n",
              "    <tr>\n",
              "      <th>4</th>\n",
              "      <td>334</td>\n",
              "      <td>0.944314</td>\n",
              "      <td>0.944291</td>\n",
              "    </tr>\n",
              "  </tbody>\n",
              "</table>\n",
              "</div>"
            ],
            "text/plain": [
              "   load_date   actuals  predicted\n",
              "0        330  0.944418   0.944435\n",
              "1        331  0.944414   0.944408\n",
              "2        332  0.944345   0.944439\n",
              "3        333  0.944311   0.941400\n",
              "4        334  0.944314   0.944291"
            ]
          },
          "metadata": {
            "tags": []
          },
          "execution_count": 8
        }
      ]
    },
    {
      "cell_type": "code",
      "metadata": {
        "id": "Pnm1AlPA8sPD",
        "colab_type": "code",
        "colab": {}
      },
      "source": [
        "import numpy as np\n",
        "def detect_classify_anomalies(df,window):\n",
        "    df.replace([np.inf, -np.inf], np.NaN, inplace=True)\n",
        "    df.fillna(0,inplace=True)\n",
        "    df['error']=df['actuals']-df['predicted']\n",
        "    df['percentage_change'] = ((df['actuals'] - df['predicted']) / df['actuals']) * 100\n",
        "    df['meanval'] = df['error'].rolling(window=window).mean()\n",
        "    df['deviation'] = df['error'].rolling(window=window).std()\n",
        "    df['-3s'] = df['meanval'] - (2 * df['deviation'])\n",
        "    df['3s'] = df['meanval'] + (2 * df['deviation'])\n",
        "    df['-2s'] = df['meanval'] - (1.75 * df['deviation'])\n",
        "    df['2s'] = df['meanval'] + (1.75 * df['deviation'])\n",
        "    df['-1s'] = df['meanval'] - (1.5 * df['deviation'])\n",
        "    df['1s'] = df['meanval'] + (1.5 * df['deviation'])\n",
        "    cut_list = df[['error', '-3s', '-2s', '-1s', 'meanval', '1s', '2s', '3s']]\n",
        "    cut_values = cut_list.values\n",
        "    cut_sort = np.sort(cut_values)\n",
        "    df['impact'] = [(lambda x: np.where(cut_sort == df['error'][x])[1][0])(x) for x in\n",
        "                               range(len(df['error']))]\n",
        "    severity = {0: 3, 1: 2, 2: 1, 3: 0, 4: 0, 5: 1, 6: 2, 7: 3}\n",
        "    region = {0: \"NEGATIVE\", 1: \"NEGATIVE\", 2: \"NEGATIVE\", 3: \"NEGATIVE\", 4: \"POSITIVE\", 5: \"POSITIVE\", 6: \"POSITIVE\",\n",
        "              7: \"POSITIVE\"}\n",
        "    df['color'] =  df['impact'].map(severity)\n",
        "    df['region'] = df['impact'].map(region)\n",
        "    df['anomaly_points'] = np.where(df['color'] == 3, df['error'], np.nan)\n",
        "    df = df.sort_values(by='load_date', ascending=False)\n",
        "    df.load_date = pd.to_datetime(df['load_date'].astype(str), format=\"%Y-%m-%d\")\n",
        "\n",
        "    return df"
      ],
      "execution_count": 0,
      "outputs": []
    },
    {
      "cell_type": "code",
      "metadata": {
        "id": "Atzz5fVo9g86",
        "colab_type": "code",
        "outputId": "abc4febf-55e5-46ea-b062-06957f466b0f",
        "colab": {
          "base_uri": "https://localhost:8080/",
          "height": 419
        }
      },
      "source": [
        "predicted_df"
      ],
      "execution_count": 0,
      "outputs": [
        {
          "output_type": "execute_result",
          "data": {
            "text/html": [
              "<div>\n",
              "<style scoped>\n",
              "    .dataframe tbody tr th:only-of-type {\n",
              "        vertical-align: middle;\n",
              "    }\n",
              "\n",
              "    .dataframe tbody tr th {\n",
              "        vertical-align: top;\n",
              "    }\n",
              "\n",
              "    .dataframe thead th {\n",
              "        text-align: right;\n",
              "    }\n",
              "</style>\n",
              "<table border=\"1\" class=\"dataframe\">\n",
              "  <thead>\n",
              "    <tr style=\"text-align: right;\">\n",
              "      <th></th>\n",
              "      <th>load_date</th>\n",
              "      <th>actuals</th>\n",
              "      <th>predicted</th>\n",
              "    </tr>\n",
              "  </thead>\n",
              "  <tbody>\n",
              "    <tr>\n",
              "      <th>0</th>\n",
              "      <td>330</td>\n",
              "      <td>0.944418</td>\n",
              "      <td>0.944435</td>\n",
              "    </tr>\n",
              "    <tr>\n",
              "      <th>1</th>\n",
              "      <td>331</td>\n",
              "      <td>0.944414</td>\n",
              "      <td>0.944408</td>\n",
              "    </tr>\n",
              "    <tr>\n",
              "      <th>2</th>\n",
              "      <td>332</td>\n",
              "      <td>0.944345</td>\n",
              "      <td>0.944439</td>\n",
              "    </tr>\n",
              "    <tr>\n",
              "      <th>3</th>\n",
              "      <td>333</td>\n",
              "      <td>0.944311</td>\n",
              "      <td>0.941400</td>\n",
              "    </tr>\n",
              "    <tr>\n",
              "      <th>4</th>\n",
              "      <td>334</td>\n",
              "      <td>0.944314</td>\n",
              "      <td>0.944291</td>\n",
              "    </tr>\n",
              "    <tr>\n",
              "      <th>...</th>\n",
              "      <td>...</td>\n",
              "      <td>...</td>\n",
              "      <td>...</td>\n",
              "    </tr>\n",
              "    <tr>\n",
              "      <th>65</th>\n",
              "      <td>395</td>\n",
              "      <td>0.943617</td>\n",
              "      <td>0.943464</td>\n",
              "    </tr>\n",
              "    <tr>\n",
              "      <th>66</th>\n",
              "      <td>396</td>\n",
              "      <td>0.943627</td>\n",
              "      <td>0.943475</td>\n",
              "    </tr>\n",
              "    <tr>\n",
              "      <th>67</th>\n",
              "      <td>397</td>\n",
              "      <td>0.943621</td>\n",
              "      <td>0.943717</td>\n",
              "    </tr>\n",
              "    <tr>\n",
              "      <th>68</th>\n",
              "      <td>398</td>\n",
              "      <td>0.943560</td>\n",
              "      <td>0.943670</td>\n",
              "    </tr>\n",
              "    <tr>\n",
              "      <th>69</th>\n",
              "      <td>399</td>\n",
              "      <td>0.943565</td>\n",
              "      <td>0.943507</td>\n",
              "    </tr>\n",
              "  </tbody>\n",
              "</table>\n",
              "<p>70 rows × 3 columns</p>\n",
              "</div>"
            ],
            "text/plain": [
              "    load_date   actuals  predicted\n",
              "0         330  0.944418   0.944435\n",
              "1         331  0.944414   0.944408\n",
              "2         332  0.944345   0.944439\n",
              "3         333  0.944311   0.941400\n",
              "4         334  0.944314   0.944291\n",
              "..        ...       ...        ...\n",
              "65        395  0.943617   0.943464\n",
              "66        396  0.943627   0.943475\n",
              "67        397  0.943621   0.943717\n",
              "68        398  0.943560   0.943670\n",
              "69        399  0.943565   0.943507\n",
              "\n",
              "[70 rows x 3 columns]"
            ]
          },
          "metadata": {
            "tags": []
          },
          "execution_count": 11
        }
      ]
    },
    {
      "cell_type": "markdown",
      "metadata": {
        "id": "49MvNJJLBHlJ",
        "colab_type": "text"
      },
      "source": [
        "summary:By using a rolling mean and standard deviation here we are able to avoid continuous false anomalies "
      ]
    },
    {
      "cell_type": "markdown",
      "metadata": {
        "id": "hTzTkc07Arch",
        "colab_type": "text"
      },
      "source": [
        "# using lstm detect anamolies"
      ]
    },
    {
      "cell_type": "code",
      "metadata": {
        "id": "xOV4bqEmBA_3",
        "colab_type": "code",
        "outputId": "a9b5cb61-4784-4945-d340-78da88e8c728",
        "colab": {
          "base_uri": "https://localhost:8080/",
          "height": 97
        }
      },
      "source": [
        "from pandas import DataFrame\n",
        "from pandas import Series\n",
        "from pandas import concat\n",
        "from pandas import read_csv\n",
        "from pandas import datetime\n",
        "from sklearn.metrics import mean_squared_error\n",
        "from sklearn.preprocessing import MinMaxScaler\n",
        "from keras.models import Sequential\n",
        "from keras.layers import Dense\n",
        "from keras.layers import LSTM\n",
        "from math import sqrt"
      ],
      "execution_count": 0,
      "outputs": [
        {
          "output_type": "stream",
          "text": [
            "Using TensorFlow backend.\n"
          ],
          "name": "stderr"
        },
        {
          "output_type": "display_data",
          "data": {
            "text/html": [
              "<p style=\"color: red;\">\n",
              "The default version of TensorFlow in Colab will soon switch to TensorFlow 2.x.<br>\n",
              "We recommend you <a href=\"https://www.tensorflow.org/guide/migrate\" target=\"_blank\">upgrade</a> now \n",
              "or ensure your notebook will continue to use TensorFlow 1.x via the <code>%tensorflow_version 1.x</code> magic:\n",
              "<a href=\"https://colab.research.google.com/notebooks/tensorflow_version.ipynb\" target=\"_blank\">more info</a>.</p>\n"
            ],
            "text/plain": [
              "<IPython.core.display.HTML object>"
            ]
          },
          "metadata": {
            "tags": []
          }
        }
      ]
    },
    {
      "cell_type": "code",
      "metadata": {
        "id": "jN-iUY5GAvMS",
        "colab_type": "code",
        "colab": {}
      },
      "source": [
        "import pandas as pd\n",
        "import numpy as np\n",
        "data=pd.read_csv('timeseries.csv', names=['num', 'value'])\n",
        "data=data[0:400]\n",
        "actual_vals = data.value.values\n",
        "actual_log = np.log10(actual_vals)#to make it stationary\n",
        "#actual_log=actual_vals"
      ],
      "execution_count": 0,
      "outputs": []
    },
    {
      "cell_type": "code",
      "metadata": {
        "id": "2D0n0YGhBdPu",
        "colab_type": "code",
        "colab": {}
      },
      "source": [
        "# frame a sequence as a supervised learning problem\n",
        "def timeseries_to_supervised(data, lag=1):\n",
        "    df = DataFrame(data)\n",
        "    columns = [df.shift(i) for i in range(1, lag+1)]\n",
        "    columns.append(df)\n",
        "    df = concat(columns, axis=1)\n",
        "    df.fillna(0, inplace=True)\n",
        "    return df\n",
        "\n",
        "# create a differenced series\n",
        "def difference(dataset, interval=1):\n",
        "    diff = list()\n",
        "    for i in range(interval, len(dataset)):\n",
        "        value = dataset[i] - dataset[i - interval]\n",
        "        diff.append(value)\n",
        "    return Series(diff)\n",
        "\n",
        "# invert differenced value\n",
        "def inverse_difference(history, yhat, interval=1):\n",
        "    return yhat + history[-interval]\n",
        "\n",
        "# scale train and test data to [-1, 1]\n",
        "def scale(train, test):\n",
        "    # fit scaler\n",
        "    scaler = MinMaxScaler(feature_range=(-1, 1))\n",
        "    scaler = scaler.fit(train)\n",
        "    # transform train\n",
        "    train = train.reshape(train.shape[0], train.shape[1])\n",
        "    train_scaled = scaler.transform(train)\n",
        "    # transform test\n",
        "    test = test.reshape(test.shape[0], test.shape[1])\n",
        "    test_scaled = scaler.transform(test)\n",
        "    return scaler, train_scaled, test_scaled\n",
        "\n",
        "# inverse scaling for a forecasted value\n",
        "def invert_scale(scaler, X, value):\n",
        "    new_row = [x for x in X] + [value]\n",
        "    array = np.array(new_row)\n",
        "    array = array.reshape(1, len(array))\n",
        "    inverted = scaler.inverse_transform(array)\n",
        "    return inverted[0, -1]\n",
        "\n",
        "# fit an LSTM network to training data\n",
        "def fit_lstm(train, batch_size, nb_epoch, neurons):\n",
        "    X, y = train[:, 0:-1], train[:, -1]\n",
        "    X = X.reshape(X.shape[0], 1, X.shape[1])\n",
        "    model = Sequential()\n",
        "    model.add(LSTM(neurons, batch_input_shape=(batch_size, X.shape[1], X.shape[2]), stateful=True))\n",
        "    model.add(Dense(1))\n",
        "    model.compile(loss='mean_squared_error', optimizer='adam')\n",
        "    for i in range(nb_epoch):\n",
        "        model.fit(X, y, epochs=1, batch_size=batch_size, verbose=0, shuffle=False)\n",
        "        model.reset_states()\n",
        "    return model\n",
        "\n",
        "# make a one-step forecast\n",
        "def forecast_lstm(model, batch_size, X):\n",
        "    X = X.reshape(1, 1, len(X))\n",
        "    yhat = model.predict(X, batch_size=batch_size)\n",
        "    return yhat[0,0]\n",
        "#### LSTM\n",
        "supervised = timeseries_to_supervised(actual_log, 1)\n",
        "supervised_values = supervised.values\n",
        "\n",
        "# split data into train and test-sets\n",
        "train_lstm, test_lstm = supervised_values[0:-70], supervised_values[-70:]\n",
        "\n",
        "# transform the scale of the data\n",
        "scaler, train_scaled_lstm, test_scaled_lstm = scale(train_lstm, test_lstm)"
      ],
      "execution_count": 0,
      "outputs": []
    },
    {
      "cell_type": "code",
      "metadata": {
        "id": "09xU9EzyB0kr",
        "colab_type": "code",
        "colab": {}
      },
      "source": [
        "lstm_model = fit_lstm(train_scaled_lstm, 1, 850 , 3)\n",
        "# forecast the entire training dataset to build up state for forecasting\n",
        "train_reshaped = train_scaled_lstm[:, 0].reshape(len(train_scaled_lstm), 1, 1)\n",
        "#lstm_model.predict(train_reshaped, batch_size=1)"
      ],
      "execution_count": 0,
      "outputs": []
    },
    {
      "cell_type": "code",
      "metadata": {
        "id": "EZL9sv9DB3Oh",
        "colab_type": "code",
        "colab": {}
      },
      "source": [
        "from matplotlib import pyplot\n",
        "import matplotlib.pyplot as plt\n",
        "import plotly as py\n",
        "import plotly.tools as tls"
      ],
      "execution_count": 0,
      "outputs": []
    },
    {
      "cell_type": "code",
      "metadata": {
        "id": "DJ7Xm5E6B6KV",
        "colab_type": "code",
        "outputId": "95878f5c-b07a-484d-9707-4fb34f1cd53f",
        "colab": {
          "base_uri": "https://localhost:8080/",
          "height": 428
        }
      },
      "source": [
        "# walk-forward validation on the test data\n",
        "predictions = list()\n",
        "for i in range(len(test_scaled_lstm)):\n",
        "#make one-step forecast\n",
        "    X, y = test_scaled_lstm[i, 0:-1], test_scaled_lstm[i, -1]\n",
        "    yhat = forecast_lstm(lstm_model, 1, X)\n",
        "    # invert scaling\n",
        "    yhat = invert_scale(scaler, X, yhat)\n",
        "    # invert differencing\n",
        "    #yhat = inverse_difference(raw_values, yhat, len(test_scaled)+1-i)\n",
        "    # store forecast\n",
        "    predictions.append(10**yhat)\n",
        "    expected = actual_log[len(train_lstm) + i ]\n",
        "# line plot of observed vs predicted\n",
        "figsize=(12, 7)\n",
        "plt.figure(figsize=figsize)\n",
        "pyplot.plot(actual_vals[-70:],label='Actuals')\n",
        "pyplot.plot(predictions, color = \"red\",label='Predicted')\n",
        "pyplot.legend(loc='upper right')\n",
        "pyplot.show()"
      ],
      "execution_count": 0,
      "outputs": [
        {
          "output_type": "display_data",
          "data": {
            "image/png": "[encoded data removed]",
            "text/plain": [
              "<Figure size 864x504 with 1 Axes>"
            ]
          },
          "metadata": {
            "tags": []
          }
        }
      ]
    },
    {
      "cell_type": "code",
      "metadata": {
        "id": "LTWUeDBECRYQ",
        "colab_type": "code",
        "colab": {}
      },
      "source": [
        ""
      ],
      "execution_count": 0,
      "outputs": []
    },
    {
      "cell_type": "markdown",
      "metadata": {
        "id": "844Vt0xcGHbO",
        "colab_type": "text"
      },
      "source": [
        "here the lstm is not able to detect   anamolies wery well and further classification trees is for supervised learning so they can not be able to detect anamolies  in this scenario"
      ]
    },
    {
      "cell_type": "code",
      "metadata": {
        "id": "uRbz4FbGG4_h",
        "colab_type": "code",
        "outputId": "b5f50d6d-6a73-4b82-bfe3-bc5480e0966c",
        "colab": {
          "base_uri": "https://localhost:8080/",
          "height": 326
        }
      },
      "source": [
        "!pip install stldecompose\n",
        "from stldecompose import decompose, forecast\n",
        "import pandas as pd\n",
        "#data=pd.read_csv('timeseries.csv')\n",
        "data=pd.read_csv('timeseries.csv', names=['num', 'value'])\n",
        "temp = data.reset_index()\n",
        "df_stl_month = temp[['num', 'value']].set_index('num')\n",
        "decomp = decompose(df_stl_month.values, period=12)\n",
        "\n",
        "trend = decomp.trend\n",
        "seasonal = decomp.seasonal\n",
        "residual = decomp.resid"
      ],
      "execution_count": 0,
      "outputs": [
        {
          "output_type": "stream",
          "text": [
            "Collecting stldecompose\n",
            "  Downloading https://files.pythonhosted.org/packages/7f/0f/cc3cf33ae4ec1ffc83a2951dc37b5cdb49f9166c0e1de1a61e11b6d954fe/stldecompose-0.0.5-py2.py3-none-any.whl\n",
            "Requirement already satisfied: scipy in /usr/local/lib/python3.6/dist-packages (from stldecompose) (1.3.2)\n",
            "Requirement already satisfied: pandas in /usr/local/lib/python3.6/dist-packages (from stldecompose) (0.25.3)\n",
            "Requirement already satisfied: matplotlib in /usr/local/lib/python3.6/dist-packages (from stldecompose) (3.1.1)\n",
            "Requirement already satisfied: numpy in /usr/local/lib/python3.6/dist-packages (from stldecompose) (1.17.4)\n",
            "Requirement already satisfied: statsmodels in /usr/local/lib/python3.6/dist-packages (from stldecompose) (0.10.1)\n",
            "Requirement already satisfied: python-dateutil>=2.6.1 in /usr/local/lib/python3.6/dist-packages (from pandas->stldecompose) (2.6.1)\n",
            "Requirement already satisfied: pytz>=2017.2 in /usr/local/lib/python3.6/dist-packages (from pandas->stldecompose) (2018.9)\n",
            "Requirement already satisfied: pyparsing!=2.0.4,!=2.1.2,!=2.1.6,>=2.0.1 in /usr/local/lib/python3.6/dist-packages (from matplotlib->stldecompose) (2.4.5)\n",
            "Requirement already satisfied: kiwisolver>=1.0.1 in /usr/local/lib/python3.6/dist-packages (from matplotlib->stldecompose) (1.1.0)\n",
            "Requirement already satisfied: cycler>=0.10 in /usr/local/lib/python3.6/dist-packages (from matplotlib->stldecompose) (0.10.0)\n",
            "Requirement already satisfied: patsy>=0.4.0 in /usr/local/lib/python3.6/dist-packages (from statsmodels->stldecompose) (0.5.1)\n",
            "Requirement already satisfied: six>=1.5 in /usr/local/lib/python3.6/dist-packages (from python-dateutil>=2.6.1->pandas->stldecompose) (1.12.0)\n",
            "Requirement already satisfied: setuptools in /usr/local/lib/python3.6/dist-packages (from kiwisolver>=1.0.1->matplotlib->stldecompose) (41.6.0)\n",
            "Installing collected packages: stldecompose\n",
            "Successfully installed stldecompose-0.0.5\n"
          ],
          "name": "stdout"
        }
      ]
    },
    {
      "cell_type": "code",
      "metadata": {
        "id": "ZvnyT6Xe0Qn5",
        "colab_type": "code",
        "outputId": "f9d1358a-16b4-4135-a93d-6c5c37147d9a",
        "colab": {
          "base_uri": "https://localhost:8080/",
          "height": 51
        }
      },
      "source": [
        "trend"
      ],
      "execution_count": 0,
      "outputs": [
        {
          "output_type": "execute_result",
          "data": {
            "text/plain": [
              "array([0.94313618, 0.94313609, 0.943136  , ..., 0.94291431, 0.94291427,\n",
              "       0.94291423])"
            ]
          },
          "metadata": {
            "tags": []
          },
          "execution_count": 10
        }
      ]
    },
    {
      "cell_type": "code",
      "metadata": {
        "id": "1tcSEGFRyeI3",
        "colab_type": "code",
        "outputId": "706dbead-3239-4b25-c73c-b67017ec7d6f",
        "colab": {
          "base_uri": "https://localhost:8080/",
          "height": 708
        }
      },
      "source": [
        "import matplotlib.pyplot as plt\n",
        "\n",
        "data['detrended_series'] = data.value-(data.value+trend)\n",
        "\n",
        "plt.figure(figsize=(30,10))\n",
        "plt.rcParams.update({'font.size': 22})\n",
        "plt.grid()\n",
        "plt.plot(data.index, data.detrended_series, marker='', linestyle='-', label='detrended_timeseries', linewidth=4)\n",
        "#plt.plot(data.index, data.value, marker='', linestyle='-', label='detrended_timeseries', linewidth=4)\n",
        "\n",
        "plt.title(\"anamoly using stl\")\n",
        "plt.xlabel(\"detrend series\")\n",
        "plt.ylabel(\"index\")\n",
        "plt.xticks(rotation=90)\n",
        "plt.legend()\n",
        "plt.show()"
      ],
      "execution_count": 0,
      "outputs": [
        {
          "output_type": "display_data",
          "data": {
            "image/png": "[encoded data removed]",
            "text/plain": [
              "<Figure size 2160x720 with 1 Axes>"
            ]
          },
          "metadata": {
            "tags": []
          }
        }
      ]
    },
    {
      "cell_type": "code",
      "metadata": {
        "id": "WJyTHIyRzkTT",
        "colab_type": "code",
        "outputId": "704defb4-ceb0-4fc6-e985-6f97bba8a39b",
        "colab": {
          "base_uri": "https://localhost:8080/",
          "height": 1000
        }
      },
      "source": [
        "\n",
        "from pandas import read_csv\n",
        "from pandas import datetime\n",
        "from pandas import DataFrame\n",
        "from statsmodels.tsa.arima_model import ARIMA\n",
        "from matplotlib import pyplot\n",
        " \n",
        "def parser(x):\n",
        "\treturn datetime.strptime('190'+x, '%Y-%m')\n",
        " \n",
        "\n",
        "# fit model\n",
        "model = ARIMA(data.value, order=(5,1,0))\n",
        "model_fit = model.fit(disp=0)\n",
        "print(model_fit.summary())\n",
        "# plot residual errors\n",
        "residuals = DataFrame(model_fit.resid)\n",
        "residuals.plot()\n",
        "pyplot.show()\n",
        "residuals.plot(kind='kde')\n",
        "pyplot.show()\n",
        "print(residuals.describe())"
      ],
      "execution_count": 0,
      "outputs": [
        {
          "output_type": "stream",
          "text": [
            "                             ARIMA Model Results                              \n",
            "==============================================================================\n",
            "Dep. Variable:                D.value   No. Observations:                 7204\n",
            "Model:                 ARIMA(5, 1, 0)   Log Likelihood               63075.114\n",
            "Method:                       css-mle   S.D. of innovations              0.000\n",
            "Date:                Wed, 04 Dec 2019   AIC                        -126136.228\n",
            "Time:                        08:03:26   BIC                        -126088.051\n",
            "Sample:                             1   HQIC                       -126119.651\n",
            "                                                                              \n",
            "=================================================================================\n",
            "                    coef    std err          z      P>|z|      [0.025      0.975]\n",
            "---------------------------------------------------------------------------------\n",
            "const         -8.109e-08    4.8e-07     -0.169      0.866   -1.02e-06    8.59e-07\n",
            "ar.L1.D.value     0.0188      0.012      1.596      0.110      -0.004       0.042\n",
            "ar.L2.D.value    -0.0637      0.012     -5.415      0.000      -0.087      -0.041\n",
            "ar.L3.D.value     0.0438      0.012      3.719      0.000       0.021       0.067\n",
            "ar.L4.D.value     0.0266      0.012      2.262      0.024       0.004       0.050\n",
            "ar.L5.D.value     0.0379      0.012      3.219      0.001       0.015       0.061\n",
            "                                    Roots                                    \n",
            "=============================================================================\n",
            "                  Real          Imaginary           Modulus         Frequency\n",
            "-----------------------------------------------------------------------------\n",
            "AR.1            1.7715           -0.0000j            1.7715           -0.0000\n",
            "AR.2            0.3494           -1.8379j            1.8708           -0.2201\n",
            "AR.3            0.3494           +1.8379j            1.8708            0.2201\n",
            "AR.4           -1.5865           -1.3191j            2.0632           -0.3896\n",
            "AR.5           -1.5865           +1.3191j            2.0632            0.3896\n",
            "-----------------------------------------------------------------------------\n"
          ],
          "name": "stdout"
        },
        {
          "output_type": "display_data",
          "data": {
            "image/png": "[encoded data removed]",
            "text/plain": [
              "<Figure size 432x288 with 1 Axes>"
            ]
          },
          "metadata": {
            "tags": []
          }
        },
        {
          "output_type": "display_data",
          "data": {
            "image/png": "[encoded data removed]",
            "text/plain": [
              "<Figure size 432x288 with 1 Axes>"
            ]
          },
          "metadata": {
            "tags": []
          }
        },
        {
          "output_type": "stream",
          "text": [
            "                  0\n",
            "count  7.204000e+03\n",
            "mean   3.113506e-09\n",
            "std    3.813271e-05\n",
            "min   -1.876018e-04\n",
            "25%   -1.797388e-05\n",
            "50%   -1.275602e-06\n",
            "75%    1.602444e-05\n",
            "max    5.580739e-04\n"
          ],
          "name": "stdout"
        }
      ]
    },
    {
      "cell_type": "code",
      "metadata": {
        "id": "WVJpNmb19H5e",
        "colab_type": "code",
        "colab": {}
      },
      "source": [
        "from statsmodels.tsa.holtwinters import ExponentialSmoothing\n",
        "import numpy as np\n",
        "\n",
        "model = ExponentialSmoothing(np.asarray(train['data']), trend='mul', seasonal=None)\n",
        "#model2 = ExponentialSmoothing(np.asarray(train['data']), trend='mul', seasonal=None, damped=True)\n",
        "model._index = pd.to_datetime(train.index)\n",
        "\n",
        "fit1 = model.fit()\n",
        "fit2 = model2.fit()\n",
        "pred1 = fit1.forecast(9)\n",
        "pred2 = fit2.forecast(10)\n",
        "\n",
        "fig, ax = plt.subplots(2, figsize=(12, 12))\n",
        "ax[0].plot(train.index[250:], train.values[250:])\n",
        "ax[0].plot(test.index, test.values, color=\"gray\", label=\"truth\")\n",
        "ax[1].plot(train.index[300:], train.values[300:])\n",
        "ax[1].plot(test.index, test.values, color=\"gray\", label=\"truth\")\n",
        "for p, f, c in zip((pred1, pred2),(fit1, fit2),('#ff7823','#3c763d')):\n",
        "    ax[0].plot(train.index[250:], f.fittedvalues[250:], color=c)\n",
        "    ax[1].plot(train.index[300:], f.fittedvalues[300:], color=c)\n",
        "    ax[0].plot(test.index, p, label=\"alpha=\"+str(f.params['smoothing_level'])[:4]+\", beta=\"+str(f.params['smoothing_slope'])[:4]+ \", damping=\"+str(True if f.params['damping_slope']>0 else False), color=c)\n",
        "    ax[1].plot(test.index, p, label=\"alpha=\"+str(f.params['smoothing_level'])[:4]+\", beta=\"+str(f.params['smoothing_slope'])[:4]+ \", damping=\"+str(True if f.params['damping_slope']>0 else False), color=c)\n",
        "ax[0].set_title(\"Damped Exponential Smoothing\");\n",
        "ax[1].set_title(\"Damped Exponential Smoothing - zoomed\");\n",
        "plt.legend();"
      ],
      "execution_count": 0,
      "outputs": []
    },
    {
      "cell_type": "markdown",
      "metadata": {
        "id": "AxPozB2O78Ci",
        "colab_type": "text"
      },
      "source": [
        "arima and stl,lstm not achieve far more accurate results then sarimax"
      ]
    }
  ]
}